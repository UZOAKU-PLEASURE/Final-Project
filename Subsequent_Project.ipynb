{
 "cells": [
  {
   "cell_type": "code",
   "execution_count": 3,
   "id": "c0e36750-28b5-4f95-a7b7-9249afdaa254",
   "metadata": {},
   "outputs": [],
   "source": [
    "import pandas as pd\n",
    "import matplotlib.pyplot as plt"
   ]
  },
  {
   "cell_type": "code",
   "execution_count": 4,
   "id": "1febba00-b515-443a-bab1-564275230cc4",
   "metadata": {},
   "outputs": [
    {
     "data": {
      "text/html": [
       "<div>\n",
       "<style scoped>\n",
       "    .dataframe tbody tr th:only-of-type {\n",
       "        vertical-align: middle;\n",
       "    }\n",
       "\n",
       "    .dataframe tbody tr th {\n",
       "        vertical-align: top;\n",
       "    }\n",
       "\n",
       "    .dataframe thead th {\n",
       "        text-align: right;\n",
       "    }\n",
       "</style>\n",
       "<table border=\"1\" class=\"dataframe\">\n",
       "  <thead>\n",
       "    <tr style=\"text-align: right;\">\n",
       "      <th></th>\n",
       "      <th>InvoiceNo</th>\n",
       "      <th>StockCode</th>\n",
       "      <th>Description</th>\n",
       "      <th>Quantity</th>\n",
       "      <th>InvoiceDate</th>\n",
       "      <th>UnitPrice</th>\n",
       "      <th>CustomerID</th>\n",
       "      <th>Country</th>\n",
       "    </tr>\n",
       "  </thead>\n",
       "  <tbody>\n",
       "    <tr>\n",
       "      <th>0</th>\n",
       "      <td>536365</td>\n",
       "      <td>85123A</td>\n",
       "      <td>WHITE HANGING HEART T-LIGHT HOLDER</td>\n",
       "      <td>6</td>\n",
       "      <td>2010-12-01 08:26:00</td>\n",
       "      <td>2.55</td>\n",
       "      <td>17850.0</td>\n",
       "      <td>United Kingdom</td>\n",
       "    </tr>\n",
       "    <tr>\n",
       "      <th>1</th>\n",
       "      <td>536365</td>\n",
       "      <td>71053</td>\n",
       "      <td>WHITE METAL LANTERN</td>\n",
       "      <td>6</td>\n",
       "      <td>2010-12-01 08:26:00</td>\n",
       "      <td>3.39</td>\n",
       "      <td>17850.0</td>\n",
       "      <td>United Kingdom</td>\n",
       "    </tr>\n",
       "    <tr>\n",
       "      <th>2</th>\n",
       "      <td>536365</td>\n",
       "      <td>84406B</td>\n",
       "      <td>CREAM CUPID HEARTS COAT HANGER</td>\n",
       "      <td>8</td>\n",
       "      <td>2010-12-01 08:26:00</td>\n",
       "      <td>2.75</td>\n",
       "      <td>17850.0</td>\n",
       "      <td>United Kingdom</td>\n",
       "    </tr>\n",
       "    <tr>\n",
       "      <th>3</th>\n",
       "      <td>536365</td>\n",
       "      <td>84029G</td>\n",
       "      <td>KNITTED UNION FLAG HOT WATER BOTTLE</td>\n",
       "      <td>6</td>\n",
       "      <td>2010-12-01 08:26:00</td>\n",
       "      <td>3.39</td>\n",
       "      <td>17850.0</td>\n",
       "      <td>United Kingdom</td>\n",
       "    </tr>\n",
       "    <tr>\n",
       "      <th>4</th>\n",
       "      <td>536365</td>\n",
       "      <td>84029E</td>\n",
       "      <td>RED WOOLLY HOTTIE WHITE HEART.</td>\n",
       "      <td>6</td>\n",
       "      <td>2010-12-01 08:26:00</td>\n",
       "      <td>3.39</td>\n",
       "      <td>17850.0</td>\n",
       "      <td>United Kingdom</td>\n",
       "    </tr>\n",
       "    <tr>\n",
       "      <th>...</th>\n",
       "      <td>...</td>\n",
       "      <td>...</td>\n",
       "      <td>...</td>\n",
       "      <td>...</td>\n",
       "      <td>...</td>\n",
       "      <td>...</td>\n",
       "      <td>...</td>\n",
       "      <td>...</td>\n",
       "    </tr>\n",
       "    <tr>\n",
       "      <th>541904</th>\n",
       "      <td>581587</td>\n",
       "      <td>22613</td>\n",
       "      <td>PACK OF 20 SPACEBOY NAPKINS</td>\n",
       "      <td>12</td>\n",
       "      <td>2011-12-09 12:50:00</td>\n",
       "      <td>0.85</td>\n",
       "      <td>12680.0</td>\n",
       "      <td>France</td>\n",
       "    </tr>\n",
       "    <tr>\n",
       "      <th>541905</th>\n",
       "      <td>581587</td>\n",
       "      <td>22899</td>\n",
       "      <td>CHILDREN'S APRON DOLLY GIRL</td>\n",
       "      <td>6</td>\n",
       "      <td>2011-12-09 12:50:00</td>\n",
       "      <td>2.10</td>\n",
       "      <td>12680.0</td>\n",
       "      <td>France</td>\n",
       "    </tr>\n",
       "    <tr>\n",
       "      <th>541906</th>\n",
       "      <td>581587</td>\n",
       "      <td>23254</td>\n",
       "      <td>CHILDRENS CUTLERY DOLLY GIRL</td>\n",
       "      <td>4</td>\n",
       "      <td>2011-12-09 12:50:00</td>\n",
       "      <td>4.15</td>\n",
       "      <td>12680.0</td>\n",
       "      <td>France</td>\n",
       "    </tr>\n",
       "    <tr>\n",
       "      <th>541907</th>\n",
       "      <td>581587</td>\n",
       "      <td>23255</td>\n",
       "      <td>CHILDRENS CUTLERY CIRCUS PARADE</td>\n",
       "      <td>4</td>\n",
       "      <td>2011-12-09 12:50:00</td>\n",
       "      <td>4.15</td>\n",
       "      <td>12680.0</td>\n",
       "      <td>France</td>\n",
       "    </tr>\n",
       "    <tr>\n",
       "      <th>541908</th>\n",
       "      <td>581587</td>\n",
       "      <td>22138</td>\n",
       "      <td>BAKING SET 9 PIECE RETROSPOT</td>\n",
       "      <td>3</td>\n",
       "      <td>2011-12-09 12:50:00</td>\n",
       "      <td>4.95</td>\n",
       "      <td>12680.0</td>\n",
       "      <td>France</td>\n",
       "    </tr>\n",
       "  </tbody>\n",
       "</table>\n",
       "<p>541909 rows × 8 columns</p>\n",
       "</div>"
      ],
      "text/plain": [
       "       InvoiceNo StockCode                          Description  Quantity  \\\n",
       "0         536365    85123A   WHITE HANGING HEART T-LIGHT HOLDER         6   \n",
       "1         536365     71053                  WHITE METAL LANTERN         6   \n",
       "2         536365    84406B       CREAM CUPID HEARTS COAT HANGER         8   \n",
       "3         536365    84029G  KNITTED UNION FLAG HOT WATER BOTTLE         6   \n",
       "4         536365    84029E       RED WOOLLY HOTTIE WHITE HEART.         6   \n",
       "...          ...       ...                                  ...       ...   \n",
       "541904    581587     22613          PACK OF 20 SPACEBOY NAPKINS        12   \n",
       "541905    581587     22899         CHILDREN'S APRON DOLLY GIRL          6   \n",
       "541906    581587     23254        CHILDRENS CUTLERY DOLLY GIRL          4   \n",
       "541907    581587     23255      CHILDRENS CUTLERY CIRCUS PARADE         4   \n",
       "541908    581587     22138        BAKING SET 9 PIECE RETROSPOT          3   \n",
       "\n",
       "               InvoiceDate  UnitPrice  CustomerID         Country  \n",
       "0      2010-12-01 08:26:00       2.55     17850.0  United Kingdom  \n",
       "1      2010-12-01 08:26:00       3.39     17850.0  United Kingdom  \n",
       "2      2010-12-01 08:26:00       2.75     17850.0  United Kingdom  \n",
       "3      2010-12-01 08:26:00       3.39     17850.0  United Kingdom  \n",
       "4      2010-12-01 08:26:00       3.39     17850.0  United Kingdom  \n",
       "...                    ...        ...         ...             ...  \n",
       "541904 2011-12-09 12:50:00       0.85     12680.0          France  \n",
       "541905 2011-12-09 12:50:00       2.10     12680.0          France  \n",
       "541906 2011-12-09 12:50:00       4.15     12680.0          France  \n",
       "541907 2011-12-09 12:50:00       4.15     12680.0          France  \n",
       "541908 2011-12-09 12:50:00       4.95     12680.0          France  \n",
       "\n",
       "[541909 rows x 8 columns]"
      ]
     },
     "execution_count": 4,
     "metadata": {},
     "output_type": "execute_result"
    }
   ],
   "source": [
    "df= pd.read_excel('Online Retail.xlsx')\n",
    "df"
   ]
  },
  {
   "cell_type": "markdown",
   "id": "870ae3f7-adfc-4413-99bd-57beac1de7d3",
   "metadata": {},
   "source": [
    "## REMOVING CANCELLED COLUMNS"
   ]
  },
  {
   "cell_type": "code",
   "execution_count": 5,
   "id": "eaa3165a-fd4b-4491-ace3-c64691eb4f59",
   "metadata": {},
   "outputs": [
    {
     "data": {
      "text/plain": [
       "InvoiceNo      532621\n",
       "StockCode      532621\n",
       "Description    531167\n",
       "Quantity       532621\n",
       "InvoiceDate    532621\n",
       "UnitPrice      532621\n",
       "CustomerID     397924\n",
       "Country        532621\n",
       "dtype: int64"
      ]
     },
     "execution_count": 5,
     "metadata": {},
     "output_type": "execute_result"
    }
   ],
   "source": [
    "df1=df[df['InvoiceNo'].str.contains('C')!=True]\n",
    "df1.count()"
   ]
  },
  {
   "cell_type": "markdown",
   "id": "021788ff-c6d4-4c68-a235-554ab42bc97b",
   "metadata": {},
   "source": [
    "## CHECKING FOR NULL VALUES"
   ]
  },
  {
   "cell_type": "code",
   "execution_count": 6,
   "id": "65906618-ad86-4215-8f2c-fd80a47b488a",
   "metadata": {},
   "outputs": [
    {
     "data": {
      "text/plain": [
       "InvoiceNo           0\n",
       "StockCode           0\n",
       "Description      1454\n",
       "Quantity            0\n",
       "InvoiceDate         0\n",
       "UnitPrice           0\n",
       "CustomerID     134697\n",
       "Country             0\n",
       "dtype: int64"
      ]
     },
     "execution_count": 6,
     "metadata": {},
     "output_type": "execute_result"
    }
   ],
   "source": [
    "df1.isna().sum()\n",
    "\n"
   ]
  },
  {
   "cell_type": "markdown",
   "id": "6ed5107b-91c0-4fec-90cf-ee03b74dc29e",
   "metadata": {},
   "source": [
    "## DROPPING NULL VALUES"
   ]
  },
  {
   "cell_type": "code",
   "execution_count": 7,
   "id": "2ae1cc53-d271-4490-af40-d697ff6a138b",
   "metadata": {},
   "outputs": [
    {
     "name": "stderr",
     "output_type": "stream",
     "text": [
      "C:\\Users\\ACER\\AppData\\Local\\Temp\\ipykernel_7104\\2978808617.py:1: SettingWithCopyWarning: \n",
      "A value is trying to be set on a copy of a slice from a DataFrame\n",
      "\n",
      "See the caveats in the documentation: https://pandas.pydata.org/pandas-docs/stable/user_guide/indexing.html#returning-a-view-versus-a-copy\n",
      "  df1.dropna(inplace=True)\n"
     ]
    },
    {
     "data": {
      "text/html": [
       "<div>\n",
       "<style scoped>\n",
       "    .dataframe tbody tr th:only-of-type {\n",
       "        vertical-align: middle;\n",
       "    }\n",
       "\n",
       "    .dataframe tbody tr th {\n",
       "        vertical-align: top;\n",
       "    }\n",
       "\n",
       "    .dataframe thead th {\n",
       "        text-align: right;\n",
       "    }\n",
       "</style>\n",
       "<table border=\"1\" class=\"dataframe\">\n",
       "  <thead>\n",
       "    <tr style=\"text-align: right;\">\n",
       "      <th></th>\n",
       "      <th>InvoiceNo</th>\n",
       "      <th>StockCode</th>\n",
       "      <th>Description</th>\n",
       "      <th>Quantity</th>\n",
       "      <th>InvoiceDate</th>\n",
       "      <th>UnitPrice</th>\n",
       "      <th>CustomerID</th>\n",
       "      <th>Country</th>\n",
       "    </tr>\n",
       "  </thead>\n",
       "  <tbody>\n",
       "    <tr>\n",
       "      <th>0</th>\n",
       "      <td>536365</td>\n",
       "      <td>85123A</td>\n",
       "      <td>WHITE HANGING HEART T-LIGHT HOLDER</td>\n",
       "      <td>6</td>\n",
       "      <td>2010-12-01 08:26:00</td>\n",
       "      <td>2.55</td>\n",
       "      <td>17850.0</td>\n",
       "      <td>United Kingdom</td>\n",
       "    </tr>\n",
       "    <tr>\n",
       "      <th>1</th>\n",
       "      <td>536365</td>\n",
       "      <td>71053</td>\n",
       "      <td>WHITE METAL LANTERN</td>\n",
       "      <td>6</td>\n",
       "      <td>2010-12-01 08:26:00</td>\n",
       "      <td>3.39</td>\n",
       "      <td>17850.0</td>\n",
       "      <td>United Kingdom</td>\n",
       "    </tr>\n",
       "    <tr>\n",
       "      <th>2</th>\n",
       "      <td>536365</td>\n",
       "      <td>84406B</td>\n",
       "      <td>CREAM CUPID HEARTS COAT HANGER</td>\n",
       "      <td>8</td>\n",
       "      <td>2010-12-01 08:26:00</td>\n",
       "      <td>2.75</td>\n",
       "      <td>17850.0</td>\n",
       "      <td>United Kingdom</td>\n",
       "    </tr>\n",
       "    <tr>\n",
       "      <th>3</th>\n",
       "      <td>536365</td>\n",
       "      <td>84029G</td>\n",
       "      <td>KNITTED UNION FLAG HOT WATER BOTTLE</td>\n",
       "      <td>6</td>\n",
       "      <td>2010-12-01 08:26:00</td>\n",
       "      <td>3.39</td>\n",
       "      <td>17850.0</td>\n",
       "      <td>United Kingdom</td>\n",
       "    </tr>\n",
       "    <tr>\n",
       "      <th>4</th>\n",
       "      <td>536365</td>\n",
       "      <td>84029E</td>\n",
       "      <td>RED WOOLLY HOTTIE WHITE HEART.</td>\n",
       "      <td>6</td>\n",
       "      <td>2010-12-01 08:26:00</td>\n",
       "      <td>3.39</td>\n",
       "      <td>17850.0</td>\n",
       "      <td>United Kingdom</td>\n",
       "    </tr>\n",
       "    <tr>\n",
       "      <th>...</th>\n",
       "      <td>...</td>\n",
       "      <td>...</td>\n",
       "      <td>...</td>\n",
       "      <td>...</td>\n",
       "      <td>...</td>\n",
       "      <td>...</td>\n",
       "      <td>...</td>\n",
       "      <td>...</td>\n",
       "    </tr>\n",
       "    <tr>\n",
       "      <th>541904</th>\n",
       "      <td>581587</td>\n",
       "      <td>22613</td>\n",
       "      <td>PACK OF 20 SPACEBOY NAPKINS</td>\n",
       "      <td>12</td>\n",
       "      <td>2011-12-09 12:50:00</td>\n",
       "      <td>0.85</td>\n",
       "      <td>12680.0</td>\n",
       "      <td>France</td>\n",
       "    </tr>\n",
       "    <tr>\n",
       "      <th>541905</th>\n",
       "      <td>581587</td>\n",
       "      <td>22899</td>\n",
       "      <td>CHILDREN'S APRON DOLLY GIRL</td>\n",
       "      <td>6</td>\n",
       "      <td>2011-12-09 12:50:00</td>\n",
       "      <td>2.10</td>\n",
       "      <td>12680.0</td>\n",
       "      <td>France</td>\n",
       "    </tr>\n",
       "    <tr>\n",
       "      <th>541906</th>\n",
       "      <td>581587</td>\n",
       "      <td>23254</td>\n",
       "      <td>CHILDRENS CUTLERY DOLLY GIRL</td>\n",
       "      <td>4</td>\n",
       "      <td>2011-12-09 12:50:00</td>\n",
       "      <td>4.15</td>\n",
       "      <td>12680.0</td>\n",
       "      <td>France</td>\n",
       "    </tr>\n",
       "    <tr>\n",
       "      <th>541907</th>\n",
       "      <td>581587</td>\n",
       "      <td>23255</td>\n",
       "      <td>CHILDRENS CUTLERY CIRCUS PARADE</td>\n",
       "      <td>4</td>\n",
       "      <td>2011-12-09 12:50:00</td>\n",
       "      <td>4.15</td>\n",
       "      <td>12680.0</td>\n",
       "      <td>France</td>\n",
       "    </tr>\n",
       "    <tr>\n",
       "      <th>541908</th>\n",
       "      <td>581587</td>\n",
       "      <td>22138</td>\n",
       "      <td>BAKING SET 9 PIECE RETROSPOT</td>\n",
       "      <td>3</td>\n",
       "      <td>2011-12-09 12:50:00</td>\n",
       "      <td>4.95</td>\n",
       "      <td>12680.0</td>\n",
       "      <td>France</td>\n",
       "    </tr>\n",
       "  </tbody>\n",
       "</table>\n",
       "<p>397924 rows × 8 columns</p>\n",
       "</div>"
      ],
      "text/plain": [
       "       InvoiceNo StockCode                          Description  Quantity  \\\n",
       "0         536365    85123A   WHITE HANGING HEART T-LIGHT HOLDER         6   \n",
       "1         536365     71053                  WHITE METAL LANTERN         6   \n",
       "2         536365    84406B       CREAM CUPID HEARTS COAT HANGER         8   \n",
       "3         536365    84029G  KNITTED UNION FLAG HOT WATER BOTTLE         6   \n",
       "4         536365    84029E       RED WOOLLY HOTTIE WHITE HEART.         6   \n",
       "...          ...       ...                                  ...       ...   \n",
       "541904    581587     22613          PACK OF 20 SPACEBOY NAPKINS        12   \n",
       "541905    581587     22899         CHILDREN'S APRON DOLLY GIRL          6   \n",
       "541906    581587     23254        CHILDRENS CUTLERY DOLLY GIRL          4   \n",
       "541907    581587     23255      CHILDRENS CUTLERY CIRCUS PARADE         4   \n",
       "541908    581587     22138        BAKING SET 9 PIECE RETROSPOT          3   \n",
       "\n",
       "               InvoiceDate  UnitPrice  CustomerID         Country  \n",
       "0      2010-12-01 08:26:00       2.55     17850.0  United Kingdom  \n",
       "1      2010-12-01 08:26:00       3.39     17850.0  United Kingdom  \n",
       "2      2010-12-01 08:26:00       2.75     17850.0  United Kingdom  \n",
       "3      2010-12-01 08:26:00       3.39     17850.0  United Kingdom  \n",
       "4      2010-12-01 08:26:00       3.39     17850.0  United Kingdom  \n",
       "...                    ...        ...         ...             ...  \n",
       "541904 2011-12-09 12:50:00       0.85     12680.0          France  \n",
       "541905 2011-12-09 12:50:00       2.10     12680.0          France  \n",
       "541906 2011-12-09 12:50:00       4.15     12680.0          France  \n",
       "541907 2011-12-09 12:50:00       4.15     12680.0          France  \n",
       "541908 2011-12-09 12:50:00       4.95     12680.0          France  \n",
       "\n",
       "[397924 rows x 8 columns]"
      ]
     },
     "execution_count": 7,
     "metadata": {},
     "output_type": "execute_result"
    }
   ],
   "source": [
    "df1.dropna(inplace=True)\n",
    "df1"
   ]
  },
  {
   "cell_type": "markdown",
   "id": "90ac9865-152a-4618-994b-7a4fc77c4716",
   "metadata": {},
   "source": [
    "##  ANALYSIS\n",
    "\n",
    "\n",
    "\n"
   ]
  },
  {
   "cell_type": "markdown",
   "id": "3bdbe1bb-0cab-4ea3-9abe-f4c46e425883",
   "metadata": {},
   "source": [
    "## CALCULATING FOR TOTAL SALES(REVENUE)"
   ]
  },
  {
   "cell_type": "code",
   "execution_count": 8,
   "id": "fa030fa5-c6ec-4562-b6f4-3f771110adee",
   "metadata": {},
   "outputs": [
    {
     "name": "stderr",
     "output_type": "stream",
     "text": [
      "C:\\Users\\ACER\\AppData\\Local\\Temp\\ipykernel_7104\\1918969297.py:1: SettingWithCopyWarning: \n",
      "A value is trying to be set on a copy of a slice from a DataFrame.\n",
      "Try using .loc[row_indexer,col_indexer] = value instead\n",
      "\n",
      "See the caveats in the documentation: https://pandas.pydata.org/pandas-docs/stable/user_guide/indexing.html#returning-a-view-versus-a-copy\n",
      "  df1['Revenue']= df1['Quantity'] * df1['UnitPrice']\n"
     ]
    },
    {
     "data": {
      "text/html": [
       "<div>\n",
       "<style scoped>\n",
       "    .dataframe tbody tr th:only-of-type {\n",
       "        vertical-align: middle;\n",
       "    }\n",
       "\n",
       "    .dataframe tbody tr th {\n",
       "        vertical-align: top;\n",
       "    }\n",
       "\n",
       "    .dataframe thead th {\n",
       "        text-align: right;\n",
       "    }\n",
       "</style>\n",
       "<table border=\"1\" class=\"dataframe\">\n",
       "  <thead>\n",
       "    <tr style=\"text-align: right;\">\n",
       "      <th></th>\n",
       "      <th>InvoiceNo</th>\n",
       "      <th>StockCode</th>\n",
       "      <th>Description</th>\n",
       "      <th>Quantity</th>\n",
       "      <th>InvoiceDate</th>\n",
       "      <th>UnitPrice</th>\n",
       "      <th>CustomerID</th>\n",
       "      <th>Country</th>\n",
       "      <th>Revenue</th>\n",
       "    </tr>\n",
       "  </thead>\n",
       "  <tbody>\n",
       "    <tr>\n",
       "      <th>0</th>\n",
       "      <td>536365</td>\n",
       "      <td>85123A</td>\n",
       "      <td>WHITE HANGING HEART T-LIGHT HOLDER</td>\n",
       "      <td>6</td>\n",
       "      <td>2010-12-01 08:26:00</td>\n",
       "      <td>2.55</td>\n",
       "      <td>17850.0</td>\n",
       "      <td>United Kingdom</td>\n",
       "      <td>15.30</td>\n",
       "    </tr>\n",
       "    <tr>\n",
       "      <th>1</th>\n",
       "      <td>536365</td>\n",
       "      <td>71053</td>\n",
       "      <td>WHITE METAL LANTERN</td>\n",
       "      <td>6</td>\n",
       "      <td>2010-12-01 08:26:00</td>\n",
       "      <td>3.39</td>\n",
       "      <td>17850.0</td>\n",
       "      <td>United Kingdom</td>\n",
       "      <td>20.34</td>\n",
       "    </tr>\n",
       "    <tr>\n",
       "      <th>2</th>\n",
       "      <td>536365</td>\n",
       "      <td>84406B</td>\n",
       "      <td>CREAM CUPID HEARTS COAT HANGER</td>\n",
       "      <td>8</td>\n",
       "      <td>2010-12-01 08:26:00</td>\n",
       "      <td>2.75</td>\n",
       "      <td>17850.0</td>\n",
       "      <td>United Kingdom</td>\n",
       "      <td>22.00</td>\n",
       "    </tr>\n",
       "    <tr>\n",
       "      <th>3</th>\n",
       "      <td>536365</td>\n",
       "      <td>84029G</td>\n",
       "      <td>KNITTED UNION FLAG HOT WATER BOTTLE</td>\n",
       "      <td>6</td>\n",
       "      <td>2010-12-01 08:26:00</td>\n",
       "      <td>3.39</td>\n",
       "      <td>17850.0</td>\n",
       "      <td>United Kingdom</td>\n",
       "      <td>20.34</td>\n",
       "    </tr>\n",
       "    <tr>\n",
       "      <th>4</th>\n",
       "      <td>536365</td>\n",
       "      <td>84029E</td>\n",
       "      <td>RED WOOLLY HOTTIE WHITE HEART.</td>\n",
       "      <td>6</td>\n",
       "      <td>2010-12-01 08:26:00</td>\n",
       "      <td>3.39</td>\n",
       "      <td>17850.0</td>\n",
       "      <td>United Kingdom</td>\n",
       "      <td>20.34</td>\n",
       "    </tr>\n",
       "    <tr>\n",
       "      <th>...</th>\n",
       "      <td>...</td>\n",
       "      <td>...</td>\n",
       "      <td>...</td>\n",
       "      <td>...</td>\n",
       "      <td>...</td>\n",
       "      <td>...</td>\n",
       "      <td>...</td>\n",
       "      <td>...</td>\n",
       "      <td>...</td>\n",
       "    </tr>\n",
       "    <tr>\n",
       "      <th>541904</th>\n",
       "      <td>581587</td>\n",
       "      <td>22613</td>\n",
       "      <td>PACK OF 20 SPACEBOY NAPKINS</td>\n",
       "      <td>12</td>\n",
       "      <td>2011-12-09 12:50:00</td>\n",
       "      <td>0.85</td>\n",
       "      <td>12680.0</td>\n",
       "      <td>France</td>\n",
       "      <td>10.20</td>\n",
       "    </tr>\n",
       "    <tr>\n",
       "      <th>541905</th>\n",
       "      <td>581587</td>\n",
       "      <td>22899</td>\n",
       "      <td>CHILDREN'S APRON DOLLY GIRL</td>\n",
       "      <td>6</td>\n",
       "      <td>2011-12-09 12:50:00</td>\n",
       "      <td>2.10</td>\n",
       "      <td>12680.0</td>\n",
       "      <td>France</td>\n",
       "      <td>12.60</td>\n",
       "    </tr>\n",
       "    <tr>\n",
       "      <th>541906</th>\n",
       "      <td>581587</td>\n",
       "      <td>23254</td>\n",
       "      <td>CHILDRENS CUTLERY DOLLY GIRL</td>\n",
       "      <td>4</td>\n",
       "      <td>2011-12-09 12:50:00</td>\n",
       "      <td>4.15</td>\n",
       "      <td>12680.0</td>\n",
       "      <td>France</td>\n",
       "      <td>16.60</td>\n",
       "    </tr>\n",
       "    <tr>\n",
       "      <th>541907</th>\n",
       "      <td>581587</td>\n",
       "      <td>23255</td>\n",
       "      <td>CHILDRENS CUTLERY CIRCUS PARADE</td>\n",
       "      <td>4</td>\n",
       "      <td>2011-12-09 12:50:00</td>\n",
       "      <td>4.15</td>\n",
       "      <td>12680.0</td>\n",
       "      <td>France</td>\n",
       "      <td>16.60</td>\n",
       "    </tr>\n",
       "    <tr>\n",
       "      <th>541908</th>\n",
       "      <td>581587</td>\n",
       "      <td>22138</td>\n",
       "      <td>BAKING SET 9 PIECE RETROSPOT</td>\n",
       "      <td>3</td>\n",
       "      <td>2011-12-09 12:50:00</td>\n",
       "      <td>4.95</td>\n",
       "      <td>12680.0</td>\n",
       "      <td>France</td>\n",
       "      <td>14.85</td>\n",
       "    </tr>\n",
       "  </tbody>\n",
       "</table>\n",
       "<p>397924 rows × 9 columns</p>\n",
       "</div>"
      ],
      "text/plain": [
       "       InvoiceNo StockCode                          Description  Quantity  \\\n",
       "0         536365    85123A   WHITE HANGING HEART T-LIGHT HOLDER         6   \n",
       "1         536365     71053                  WHITE METAL LANTERN         6   \n",
       "2         536365    84406B       CREAM CUPID HEARTS COAT HANGER         8   \n",
       "3         536365    84029G  KNITTED UNION FLAG HOT WATER BOTTLE         6   \n",
       "4         536365    84029E       RED WOOLLY HOTTIE WHITE HEART.         6   \n",
       "...          ...       ...                                  ...       ...   \n",
       "541904    581587     22613          PACK OF 20 SPACEBOY NAPKINS        12   \n",
       "541905    581587     22899         CHILDREN'S APRON DOLLY GIRL          6   \n",
       "541906    581587     23254        CHILDRENS CUTLERY DOLLY GIRL          4   \n",
       "541907    581587     23255      CHILDRENS CUTLERY CIRCUS PARADE         4   \n",
       "541908    581587     22138        BAKING SET 9 PIECE RETROSPOT          3   \n",
       "\n",
       "               InvoiceDate  UnitPrice  CustomerID         Country  Revenue  \n",
       "0      2010-12-01 08:26:00       2.55     17850.0  United Kingdom    15.30  \n",
       "1      2010-12-01 08:26:00       3.39     17850.0  United Kingdom    20.34  \n",
       "2      2010-12-01 08:26:00       2.75     17850.0  United Kingdom    22.00  \n",
       "3      2010-12-01 08:26:00       3.39     17850.0  United Kingdom    20.34  \n",
       "4      2010-12-01 08:26:00       3.39     17850.0  United Kingdom    20.34  \n",
       "...                    ...        ...         ...             ...      ...  \n",
       "541904 2011-12-09 12:50:00       0.85     12680.0          France    10.20  \n",
       "541905 2011-12-09 12:50:00       2.10     12680.0          France    12.60  \n",
       "541906 2011-12-09 12:50:00       4.15     12680.0          France    16.60  \n",
       "541907 2011-12-09 12:50:00       4.15     12680.0          France    16.60  \n",
       "541908 2011-12-09 12:50:00       4.95     12680.0          France    14.85  \n",
       "\n",
       "[397924 rows x 9 columns]"
      ]
     },
     "execution_count": 8,
     "metadata": {},
     "output_type": "execute_result"
    }
   ],
   "source": [
    "df1['Revenue']= df1['Quantity'] * df1['UnitPrice']\n",
    "df1"
   ]
  },
  {
   "cell_type": "markdown",
   "id": "608d9de0-379c-4af1-aba1-ed2b748fb7cd",
   "metadata": {},
   "source": [
    "## TOTAL REVENUE"
   ]
  },
  {
   "cell_type": "code",
   "execution_count": 16,
   "id": "21880715-7cf1-4e57-846d-ed69046fec04",
   "metadata": {},
   "outputs": [
    {
     "data": {
      "text/html": [
       "<div>\n",
       "<style scoped>\n",
       "    .dataframe tbody tr th:only-of-type {\n",
       "        vertical-align: middle;\n",
       "    }\n",
       "\n",
       "    .dataframe tbody tr th {\n",
       "        vertical-align: top;\n",
       "    }\n",
       "\n",
       "    .dataframe thead th {\n",
       "        text-align: right;\n",
       "    }\n",
       "</style>\n",
       "<table border=\"1\" class=\"dataframe\">\n",
       "  <thead>\n",
       "    <tr style=\"text-align: right;\">\n",
       "      <th></th>\n",
       "      <th>index</th>\n",
       "      <th>0</th>\n",
       "    </tr>\n",
       "  </thead>\n",
       "  <tbody>\n",
       "    <tr>\n",
       "      <th>0</th>\n",
       "      <td>Revenue</td>\n",
       "      <td>8911407.904</td>\n",
       "    </tr>\n",
       "  </tbody>\n",
       "</table>\n",
       "</div>"
      ],
      "text/plain": [
       "     index            0\n",
       "0  Revenue  8911407.904"
      ]
     },
     "execution_count": 16,
     "metadata": {},
     "output_type": "execute_result"
    }
   ],
   "source": [
    "Total_revenue=df1.agg({'Revenue':'sum'}).reset_index()\n",
    "Total_revenue"
   ]
  },
  {
   "cell_type": "markdown",
   "id": "193b2975-3356-4cf0-8a23-2ad4243c6a04",
   "metadata": {},
   "source": [
    "## TOTAL QUANTITY"
   ]
  },
  {
   "cell_type": "code",
   "execution_count": null,
   "id": "c9ee117b-0e7a-46ae-a345-1b1db159343d",
   "metadata": {},
   "outputs": [],
   "source": [
    "df1.agg({'Quantity':'sum'}).reset_index()"
   ]
  },
  {
   "cell_type": "markdown",
   "id": "4fd903dd-e1bf-4d6d-97e4-3ebd1222d2a9",
   "metadata": {},
   "source": [
    "## TOP TEN PRODUCT ACCRUING THE MOST REVENUE"
   ]
  },
  {
   "cell_type": "code",
   "execution_count": null,
   "id": "8c90887f-12a5-4eb7-aee6-f8e6e247f277",
   "metadata": {},
   "outputs": [],
   "source": [
    "MRP= df1.groupby(['Description']).agg({'Revenue':'sum'}).reset_index().sort_values(by='Revenue',ascending=False)\n",
    "One=MRP.head(10)\n",
    "One"
   ]
  },
  {
   "cell_type": "markdown",
   "id": "7ad9437a-ea68-4272-b1d6-a3eda4b83ef0",
   "metadata": {},
   "source": [
    "## BINNING THE TOP PRODUCTS(REVENUE) INTO THREE CATEGORIES(HIGH PRICE,MEDIUM PRICE, LOW PRICE) \n",
    "\n",
    "## This is to ascertain the reason why these products accrued the most revenue"
   ]
  },
  {
   "cell_type": "code",
   "execution_count": null,
   "id": "a49f491d-50c8-453d-be76-34f612ee056e",
   "metadata": {},
   "outputs": [],
   "source": [
    "Labels=['Low_Price','Med_Price','High_Price']\n",
    "df1['Price_range']=pd.qcut(df1[\"UnitPrice\"],q=3,labels=Labels)\n",
    "df1"
   ]
  },
  {
   "cell_type": "markdown",
   "id": "d4cff19a-a1e0-4311-91c5-e13904cb2910",
   "metadata": {},
   "source": [
    "## REVENUE PRODUCTS UNDER HIGH PRICE ANALYSIS"
   ]
  },
  {
   "cell_type": "code",
   "execution_count": null,
   "id": "b9522ba1-8218-4936-b548-389611bb02d1",
   "metadata": {},
   "outputs": [],
   "source": [
    "High=df1[df1['Price_range']=='High_Price'].sort_values(by='Price_range',ascending=False)\n",
    "High.head(10)"
   ]
  },
  {
   "cell_type": "code",
   "execution_count": null,
   "id": "d908006d-e82a-4234-8b5f-249f90d93961",
   "metadata": {},
   "outputs": [],
   "source": [
    "High_Price=High.groupby(\"Description\")[\"Revenue\"].sum().reset_index().sort_values(by='Revenue',ascending=False)\n",
    "A=High_Price.head(10)\n",
    "A"
   ]
  },
  {
   "cell_type": "markdown",
   "id": "f7a7656f-ad0e-493e-b538-f9f3ce10898f",
   "metadata": {},
   "source": [
    "## MERGING PRODUCTS UNDER THE TOP TEN REVENUE PRODUCTS WITH THOSE UNDER THE HIGH PRICE CATEGORY"
   ]
  },
  {
   "cell_type": "code",
   "execution_count": null,
   "id": "37304509-a87d-4ca3-82bb-71f9a54417d6",
   "metadata": {},
   "outputs": [],
   "source": [
    "One.merge(A,on=\"Description\")"
   ]
  },
  {
   "cell_type": "markdown",
   "id": "7d84a533-4864-4684-9c9c-dfe13211133e",
   "metadata": {},
   "source": [
    "## REVENUE PRODUCTS UNDER MEDIUM PRICE ANALYSIS"
   ]
  },
  {
   "cell_type": "code",
   "execution_count": null,
   "id": "25f1ba96-db37-4aaa-bf9e-a004412eb643",
   "metadata": {},
   "outputs": [],
   "source": [
    "Med=df1[df1['Price_range']=='Med_Price'].sort_values(by='Price_range',ascending=False)\n",
    "Med.head(10)"
   ]
  },
  {
   "cell_type": "code",
   "execution_count": null,
   "id": "961678bf-2ed0-43af-bbb3-9ff88f45c886",
   "metadata": {},
   "outputs": [],
   "source": [
    "Med_Price=Med.groupby('Description')['Revenue'].sum().reset_index().sort_values(by='Revenue',ascending=False)\n",
    "B=Med_Price.head(10)\n",
    "B"
   ]
  },
  {
   "cell_type": "markdown",
   "id": "d7b93d0d-c6d4-44f8-8e30-6c16810116fe",
   "metadata": {},
   "source": [
    "## MERGING PRODUCTS UNDER THE TOP TEN REVENUE PRODUCTS WITH THOSE UNDER THE MEDIUM PRICE CATEGORY"
   ]
  },
  {
   "cell_type": "code",
   "execution_count": null,
   "id": "77486fdf-6c21-4cba-8c95-c2e6b2437600",
   "metadata": {},
   "outputs": [],
   "source": [
    "One.merge(B,on='Description')"
   ]
  },
  {
   "cell_type": "markdown",
   "id": "086ea29e-9e24-445f-a1a2-a197f8541d6a",
   "metadata": {},
   "source": [
    "## REVENUE PRODUCTS UNDER LOW PRICE ANALYSIS"
   ]
  },
  {
   "cell_type": "code",
   "execution_count": null,
   "id": "0f17f0fc-8ba3-4033-adef-4e122ef95a0f",
   "metadata": {},
   "outputs": [],
   "source": [
    "Low=df1[df1['Price_range']=='Low_Price'].sort_values(by='Price_range',ascending=False)\n",
    "Low.head(10)"
   ]
  },
  {
   "cell_type": "code",
   "execution_count": null,
   "id": "65fcac80-a27a-451e-a09e-51e4a1376810",
   "metadata": {},
   "outputs": [],
   "source": [
    "Low_Price=Low.groupby('Description')['Revenue'].sum().reset_index().sort_values(by='Revenue',ascending=False)\n",
    "C=Low_Price.head(10)\n",
    "C"
   ]
  },
  {
   "cell_type": "markdown",
   "id": "931c64e8-3114-46db-986c-414d26881628",
   "metadata": {},
   "source": [
    "## MERGING PRODUCTS UNDER THE TOP TEN REVENUE PRODUCTS WITH THOSE UNDER THE LOW PRICE CATEGORY"
   ]
  },
  {
   "cell_type": "code",
   "execution_count": null,
   "id": "8b0e36c9-d276-4719-a17f-ef183602a856",
   "metadata": {},
   "outputs": [],
   "source": [
    "One.merge(C,on='Description')"
   ]
  },
  {
   "cell_type": "markdown",
   "id": "8ae8d73b-a45d-44af-a93c-fb5fdf5aa7e1",
   "metadata": {},
   "source": [
    "## ANALYSIS\n",
    " \n",
    "## From the analysis, it has been found that high_priced/medium-priced products accrued the most revenue\n",
    "## ADVICE:\n",
    "## 1.Reward frequent high-spenders with gifts and access to new products.\n",
    "## 2.Follow-up emails: “How did you like it?” This helps to build trust\n",
    "## 3.Maintenance tips or usage guides for the premium product\n",
    "## 4.Offer limited discounts on lesser-known products to recent buyers of premium ones."
   ]
  },
  {
   "cell_type": "markdown",
   "id": "ff076ec0-7ab2-4b39-90c8-756dc2a9a71e",
   "metadata": {},
   "source": [
    "## TOP TEN PRODUCT BASED ON QUANTITY"
   ]
  },
  {
   "cell_type": "code",
   "execution_count": null,
   "id": "f76df185-90bb-4671-b643-58dd0f3b10d2",
   "metadata": {},
   "outputs": [],
   "source": [
    "Most_sold= df1.groupby(['Description']).agg({'Quantity':'sum'}).reset_index().sort_values(by='Quantity',ascending=False)\n",
    "Two= Most_sold.head(10)\n",
    "Two"
   ]
  },
  {
   "cell_type": "markdown",
   "id": "8958f9e1-c7ac-4939-b2d4-aea27a8efd1b",
   "metadata": {},
   "source": [
    "## SEGMENTNG THEM INTO THREE GROUPS TO UNDERSTAND WHY THESE PRODUCTS WERE BOUGHT THE MOST"
   ]
  },
  {
   "cell_type": "code",
   "execution_count": null,
   "id": "6e14e81f-29a6-4475-a9b4-9d66ed3b72f1",
   "metadata": {},
   "outputs": [],
   "source": [
    "labels=['Low','Medium','High']\n",
    "df1['Categories']=pd.qcut(df1['Quantity'],q=3,labels=labels)\n",
    "df1"
   ]
  },
  {
   "cell_type": "markdown",
   "id": "a965790e-06e9-4829-a6ec-2a1505b61c66",
   "metadata": {},
   "source": [
    "## HIGH PRICE"
   ]
  },
  {
   "cell_type": "code",
   "execution_count": null,
   "id": "f14a3e54-3e1a-40a5-b9a7-b3926c6d1028",
   "metadata": {},
   "outputs": [],
   "source": [
    "HP= df1[df1['Categories']=='High'].sort_values(by='Categories',ascending=False)\n",
    "HP.head(10)\n"
   ]
  },
  {
   "cell_type": "code",
   "execution_count": null,
   "id": "36a26a37-6070-41b2-894d-0736287a1370",
   "metadata": {},
   "outputs": [],
   "source": [
    "High_Quan=HP.groupby('Description')['Quantity'].sum().reset_index().sort_values(by='Quantity',ascending=False)\n",
    "D=High_Quan.head(10)\n",
    "D"
   ]
  },
  {
   "cell_type": "code",
   "execution_count": null,
   "id": "303cb56d-27bd-4d95-bcbf-9ec7b54b08b4",
   "metadata": {},
   "outputs": [],
   "source": [
    "Two.merge(D,on='Description')"
   ]
  },
  {
   "cell_type": "markdown",
   "id": "a9903a0f-3cde-4466-86d9-ff4727c04377",
   "metadata": {},
   "source": [
    "## MEDIUM PRICE"
   ]
  },
  {
   "cell_type": "code",
   "execution_count": null,
   "id": "c1eeef59-a61c-4c6e-8c4c-fd7387ee35e3",
   "metadata": {},
   "outputs": [],
   "source": [
    "MP= df1[df1['Categories']=='Medium'].sort_values(by='Categories',ascending=False)\n",
    "MP.head(10)\n"
   ]
  },
  {
   "cell_type": "code",
   "execution_count": null,
   "id": "cbccff4e-345a-4b41-870c-f4a76160fb2f",
   "metadata": {},
   "outputs": [],
   "source": [
    "Medium_Price=MP.groupby('Description')['Quantity'].sum().reset_index().sort_values(by='Quantity',ascending=False)\n",
    "E=Medium_Price.head(10)\n",
    "E"
   ]
  },
  {
   "cell_type": "code",
   "execution_count": null,
   "id": "6beeb20e-0537-4fcb-a86d-ad753c7cb220",
   "metadata": {},
   "outputs": [],
   "source": [
    "Two.merge(E,on='Description')"
   ]
  },
  {
   "cell_type": "markdown",
   "id": "3b8b8fda-86db-4e12-972b-179cd5eef34d",
   "metadata": {},
   "source": [
    "## LOW PRICE"
   ]
  },
  {
   "cell_type": "code",
   "execution_count": null,
   "id": "669baaf6-bbae-476d-8acf-a87da8c4a03a",
   "metadata": {},
   "outputs": [],
   "source": [
    "LP=df1[df1['Categories']=='Low'].sort_values(by='Categories',ascending=False)\n",
    "LP"
   ]
  },
  {
   "cell_type": "code",
   "execution_count": null,
   "id": "fd05c9ef-0047-4cfc-b716-57b222a6db37",
   "metadata": {},
   "outputs": [],
   "source": [
    "Low_Price= LP.groupby('Description')['Quantity'].sum().reset_index().sort_values(by='Quantity',ascending=False)\n",
    "F=Low_Price.head(10)\n",
    "F"
   ]
  },
  {
   "cell_type": "code",
   "execution_count": null,
   "id": "23604f3d-57c9-40d0-9677-bfe62fc6150d",
   "metadata": {},
   "outputs": [],
   "source": [
    "Two.merge(F,on='Description')"
   ]
  },
  {
   "cell_type": "markdown",
   "id": "46d110a9-02e1-4923-adcd-441808a45436",
   "metadata": {},
   "source": [
    "## ANALYSIS\n",
    "## From the analysis, it has been found that high_priced/medium-priced products were bought mostly by Customers.\n",
    "## ADVICE\n",
    "## 1. Don't lower the price, enhance the perceived value.\n",
    "## 2. Add after-sale perks: warranties, guides, personalized support\n",
    "## 3. Send personalized offers, sneak peeks, and upgrades\n",
    "## 4. Bundle high and low products together. This spreads exposure to other products without harming revenue.\n",
    "\n",
    "\n"
   ]
  },
  {
   "cell_type": "markdown",
   "id": "5b55ac22-0aae-45c6-b48a-f451d7a69bda",
   "metadata": {
    "jp-MarkdownHeadingCollapsed": true
   },
   "source": [
    "## CUSTOMER ANALYSIS BEHAVIOUR"
   ]
  },
  {
   "cell_type": "markdown",
   "id": "886729d0-4259-4d48-afc6-bd38c3267896",
   "metadata": {},
   "source": [
    "## TOP CUSTOMERS BY QUANTITY"
   ]
  },
  {
   "cell_type": "code",
   "execution_count": null,
   "id": "afd63868-a3cf-4ccb-8e39-e64870fb2f23",
   "metadata": {},
   "outputs": [],
   "source": [
    "Top_clients_by_Q= df1.groupby(['CustomerID']).agg({'Quantity':'sum'}).reset_index().sort_values(by='Quantity',ascending=False)\n",
    "TQ=Top_clients_by_Q.head(10)\n",
    "TQ"
   ]
  },
  {
   "cell_type": "markdown",
   "id": "4a495095-f695-4039-a5dd-cbff88f15316",
   "metadata": {},
   "source": [
    "## TOP CUSTOMERS BY REVENUE"
   ]
  },
  {
   "cell_type": "code",
   "execution_count": null,
   "id": "22ed746d-59fb-48cd-b7ee-fe80ac10942a",
   "metadata": {},
   "outputs": [],
   "source": [
    "Top_clients= df1.groupby(['CustomerID']).agg({'Revenue':'sum'}).reset_index().sort_values(by='Revenue',ascending=False)\n",
    "T=Top_clients.head(10)\n",
    "T"
   ]
  },
  {
   "cell_type": "markdown",
   "id": "53bc664e-6d3e-4a18-8277-bde9d665dc27",
   "metadata": {},
   "source": [
    "## CALCULATING CUSTOMERS' PURCHASE RECENCY"
   ]
  },
  {
   "cell_type": "code",
   "execution_count": 14,
   "id": "b011c73d-8948-46cb-92ae-fbc29ec695c9",
   "metadata": {
    "scrolled": true
   },
   "outputs": [
    {
     "data": {
      "text/plain": [
       "Timestamp('2011-12-09 12:50:00')"
      ]
     },
     "execution_count": 14,
     "metadata": {},
     "output_type": "execute_result"
    }
   ],
   "source": [
    "max_date=df1['InvoiceDate'].max()\n",
    "max_date"
   ]
  },
  {
   "cell_type": "code",
   "execution_count": 12,
   "id": "af9201c3-60c0-4477-8eac-f80fa902143f",
   "metadata": {},
   "outputs": [
    {
     "data": {
      "text/html": [
       "<div>\n",
       "<style scoped>\n",
       "    .dataframe tbody tr th:only-of-type {\n",
       "        vertical-align: middle;\n",
       "    }\n",
       "\n",
       "    .dataframe tbody tr th {\n",
       "        vertical-align: top;\n",
       "    }\n",
       "\n",
       "    .dataframe thead th {\n",
       "        text-align: right;\n",
       "    }\n",
       "</style>\n",
       "<table border=\"1\" class=\"dataframe\">\n",
       "  <thead>\n",
       "    <tr style=\"text-align: right;\">\n",
       "      <th></th>\n",
       "      <th>CustomerID</th>\n",
       "      <th>LastPurchaseDate</th>\n",
       "    </tr>\n",
       "  </thead>\n",
       "  <tbody>\n",
       "    <tr>\n",
       "      <th>0</th>\n",
       "      <td>12346.0</td>\n",
       "      <td>2011-01-18 10:01:00</td>\n",
       "    </tr>\n",
       "    <tr>\n",
       "      <th>1</th>\n",
       "      <td>12347.0</td>\n",
       "      <td>2011-12-07 15:52:00</td>\n",
       "    </tr>\n",
       "    <tr>\n",
       "      <th>2</th>\n",
       "      <td>12348.0</td>\n",
       "      <td>2011-09-25 13:13:00</td>\n",
       "    </tr>\n",
       "    <tr>\n",
       "      <th>3</th>\n",
       "      <td>12349.0</td>\n",
       "      <td>2011-11-21 09:51:00</td>\n",
       "    </tr>\n",
       "    <tr>\n",
       "      <th>4</th>\n",
       "      <td>12350.0</td>\n",
       "      <td>2011-02-02 16:01:00</td>\n",
       "    </tr>\n",
       "    <tr>\n",
       "      <th>5</th>\n",
       "      <td>12352.0</td>\n",
       "      <td>2011-11-03 14:37:00</td>\n",
       "    </tr>\n",
       "    <tr>\n",
       "      <th>6</th>\n",
       "      <td>12353.0</td>\n",
       "      <td>2011-05-19 17:47:00</td>\n",
       "    </tr>\n",
       "    <tr>\n",
       "      <th>7</th>\n",
       "      <td>12354.0</td>\n",
       "      <td>2011-04-21 13:11:00</td>\n",
       "    </tr>\n",
       "    <tr>\n",
       "      <th>8</th>\n",
       "      <td>12355.0</td>\n",
       "      <td>2011-05-09 13:49:00</td>\n",
       "    </tr>\n",
       "    <tr>\n",
       "      <th>9</th>\n",
       "      <td>12356.0</td>\n",
       "      <td>2011-11-17 08:40:00</td>\n",
       "    </tr>\n",
       "  </tbody>\n",
       "</table>\n",
       "</div>"
      ],
      "text/plain": [
       "   CustomerID    LastPurchaseDate\n",
       "0     12346.0 2011-01-18 10:01:00\n",
       "1     12347.0 2011-12-07 15:52:00\n",
       "2     12348.0 2011-09-25 13:13:00\n",
       "3     12349.0 2011-11-21 09:51:00\n",
       "4     12350.0 2011-02-02 16:01:00\n",
       "5     12352.0 2011-11-03 14:37:00\n",
       "6     12353.0 2011-05-19 17:47:00\n",
       "7     12354.0 2011-04-21 13:11:00\n",
       "8     12355.0 2011-05-09 13:49:00\n",
       "9     12356.0 2011-11-17 08:40:00"
      ]
     },
     "execution_count": 12,
     "metadata": {},
     "output_type": "execute_result"
    }
   ],
   "source": [
    "Last_Date=df1.groupby('CustomerID')['InvoiceDate'].max().reset_index()\n",
    "Last_Date.columns=['CustomerID','LastPurchaseDate']\n",
    "Last_Date.head(10)"
   ]
  },
  {
   "cell_type": "code",
   "execution_count": null,
   "id": "86e3f4bf-2dec-4257-9904-739922dd34bf",
   "metadata": {},
   "outputs": [],
   "source": [
    "Last_Date['RecencyDays'] = (max_date - Last_Date['LastPurchaseDate']).dt.days\n",
    "G=Last_Date.sort_values(by='RecencyDays',ascending=False)\n",
    "G.head(150)"
   ]
  },
  {
   "cell_type": "markdown",
   "id": "a2822752-b3f0-479c-89dd-1fc3fbd0aa09",
   "metadata": {},
   "source": [
    "## BINNING OUR CUSTOMERS INTO TWO GROUPS(FREQUENT AND SEASONAL CUSTOMERS)"
   ]
  },
  {
   "cell_type": "code",
   "execution_count": null,
   "id": "b96d930c-94c9-4fd7-9d0b-43795457f51e",
   "metadata": {},
   "outputs": [],
   "source": [
    "Labels=['Frequent_Customers','Seasonal_Customers']\n",
    "G['Customer_Status']= pd.qcut(G['RecencyDays'],q=2,labels=Labels)\n",
    "Cus_Stat=G.head(20).sort_values(by='RecencyDays',ascending=False)\n",
    "Cus_Stat"
   ]
  },
  {
   "cell_type": "code",
   "execution_count": null,
   "id": "74a03f25-c3f3-4c95-9955-9202f4172be1",
   "metadata": {},
   "outputs": [],
   "source": [
    "G['Customer_Status'].value_counts().plot(kind='pie', autopct='%1.1f%%', title='Customer Proportion by Recency')"
   ]
  },
  {
   "cell_type": "markdown",
   "id": "bfcdc184-6858-4571-84c4-902f9237358b",
   "metadata": {},
   "source": [
    "## CUSTOMERS WITH THE MOST ENTRIES"
   ]
  },
  {
   "cell_type": "code",
   "execution_count": null,
   "id": "f4f566d9-ca91-44ce-b4d4-1bd0f30b4c62",
   "metadata": {},
   "outputs": [],
   "source": [
    "Entries=df1.groupby('CustomerID').agg({'InvoiceNo':'nunique',\"Revenue\":\"sum\"}).reset_index().sort_values(by='Revenue',ascending=False)\n",
    "Entries.columns=['CustomerID','Entries','Revenue']\n",
    "H=Entries\n",
    "H"
   ]
  },
  {
   "cell_type": "code",
   "execution_count": null,
   "id": "20a333cb-02c2-4538-a192-7ecebc107904",
   "metadata": {},
   "outputs": [],
   "source": [
    "merging=G.merge(H,on='CustomerID')\n",
    "merging.sort_values(by=\"Revenue\",ascending=False).head(10)"
   ]
  },
  {
   "cell_type": "markdown",
   "id": "08b83107-4d3c-4534-bf5d-e48de7192eb5",
   "metadata": {},
   "source": [
    "## TOP SALES BY COUNTRY"
   ]
  },
  {
   "cell_type": "code",
   "execution_count": null,
   "id": "b98dc798-0a9c-4588-b33c-1d0b859e6f85",
   "metadata": {},
   "outputs": [],
   "source": [
    "Country_data=df1.groupby('Country').agg({'Revenue':'sum'}).reset_index().sort_values(by='Revenue',ascending=False)\n",
    "K=Country_data.head(10)\n",
    "K"
   ]
  },
  {
   "cell_type": "code",
   "execution_count": null,
   "id": "737e1837-ab47-4c25-b409-2c12eff0324e",
   "metadata": {},
   "outputs": [],
   "source": [
    "K.plot(kind='bar',x='Country',y='Revenue',title='Top Countries by Revenue')\n",
    "plt.xlabel('Countries')\n",
    "plt.ylabel('Revenue')\n",
    "plt.xticks(rotation=45)"
   ]
  },
  {
   "cell_type": "markdown",
   "id": "194007e6-ccad-44f1-8e66-fc4fe28f9e5b",
   "metadata": {},
   "source": [
    "## COUNT OF CUSTOMERS FOR TOP(10) REVENUE COUNTRY"
   ]
  },
  {
   "cell_type": "code",
   "execution_count": null,
   "id": "4e4c7e71-aae7-4747-98ac-791d9bcde23c",
   "metadata": {},
   "outputs": [],
   "source": [
    "TC=df1.groupby(['Country']).agg({'CustomerID':'count','Revenue':'sum'}).reset_index().sort_values(by='Revenue',ascending=False).head(10)\n",
    "TC"
   ]
  },
  {
   "cell_type": "code",
   "execution_count": null,
   "id": "d4341dd1-a335-4dac-88b3-601d9557b56e",
   "metadata": {},
   "outputs": [],
   "source": [
    "TC.plot(kind='barh',x='Country',y='Revenue',title='Top Customers by Revenue')\n",
    "plt.xlabel('Top_Customers')\n",
    "plt.ylabel('Revenue')\n",
    "plt.xticks(rotation=45)"
   ]
  },
  {
   "cell_type": "markdown",
   "id": "6b074232-4bf1-4ca8-989a-7612b3aa8ccf",
   "metadata": {},
   "source": [
    "## TOP TEN CUSTOMERS BY REVENUE AND COUNTRY"
   ]
  },
  {
   "cell_type": "code",
   "execution_count": null,
   "id": "f4f8f287-2c16-4791-8339-9f36f1165c9f",
   "metadata": {},
   "outputs": [],
   "source": [
    "df1.groupby(['Country','CustomerID']).agg({'Revenue':'sum'}).reset_index().sort_values(by='Revenue',ascending=False).head(10)\n"
   ]
  },
  {
   "cell_type": "markdown",
   "id": "3fab12cc-ec06-49d5-b32e-e82ff35547dc",
   "metadata": {},
   "source": [
    "## AVERAGE BASKET SIZE"
   ]
  },
  {
   "cell_type": "code",
   "execution_count": 20,
   "id": "d4d993e5-b4a0-4a04-bfd2-e98cbc80cf64",
   "metadata": {},
   "outputs": [
    {
     "data": {
      "text/html": [
       "<div>\n",
       "<style scoped>\n",
       "    .dataframe tbody tr th:only-of-type {\n",
       "        vertical-align: middle;\n",
       "    }\n",
       "\n",
       "    .dataframe tbody tr th {\n",
       "        vertical-align: top;\n",
       "    }\n",
       "\n",
       "    .dataframe thead th {\n",
       "        text-align: right;\n",
       "    }\n",
       "</style>\n",
       "<table border=\"1\" class=\"dataframe\">\n",
       "  <thead>\n",
       "    <tr style=\"text-align: right;\">\n",
       "      <th></th>\n",
       "      <th>Quantity</th>\n",
       "    </tr>\n",
       "    <tr>\n",
       "      <th>InvoiceNo</th>\n",
       "      <th></th>\n",
       "    </tr>\n",
       "  </thead>\n",
       "  <tbody>\n",
       "    <tr>\n",
       "      <th>581483</th>\n",
       "      <td>80995</td>\n",
       "    </tr>\n",
       "    <tr>\n",
       "      <th>541431</th>\n",
       "      <td>74215</td>\n",
       "    </tr>\n",
       "    <tr>\n",
       "      <th>556917</th>\n",
       "      <td>15049</td>\n",
       "    </tr>\n",
       "    <tr>\n",
       "      <th>563076</th>\n",
       "      <td>14730</td>\n",
       "    </tr>\n",
       "    <tr>\n",
       "      <th>572035</th>\n",
       "      <td>13392</td>\n",
       "    </tr>\n",
       "    <tr>\n",
       "      <th>...</th>\n",
       "      <td>...</td>\n",
       "    </tr>\n",
       "    <tr>\n",
       "      <th>541505</th>\n",
       "      <td>1</td>\n",
       "    </tr>\n",
       "    <tr>\n",
       "      <th>546328</th>\n",
       "      <td>1</td>\n",
       "    </tr>\n",
       "    <tr>\n",
       "      <th>561895</th>\n",
       "      <td>1</td>\n",
       "    </tr>\n",
       "    <tr>\n",
       "      <th>546329</th>\n",
       "      <td>1</td>\n",
       "    </tr>\n",
       "    <tr>\n",
       "      <th>575967</th>\n",
       "      <td>1</td>\n",
       "    </tr>\n",
       "  </tbody>\n",
       "</table>\n",
       "<p>18536 rows × 1 columns</p>\n",
       "</div>"
      ],
      "text/plain": [
       "           Quantity\n",
       "InvoiceNo          \n",
       "581483        80995\n",
       "541431        74215\n",
       "556917        15049\n",
       "563076        14730\n",
       "572035        13392\n",
       "...             ...\n",
       "541505            1\n",
       "546328            1\n",
       "561895            1\n",
       "546329            1\n",
       "575967            1\n",
       "\n",
       "[18536 rows x 1 columns]"
      ]
     },
     "execution_count": 20,
     "metadata": {},
     "output_type": "execute_result"
    }
   ],
   "source": [
    "Basket_per_transaction=df1.groupby('InvoiceNo').agg({'Quantity':'sum'})\n",
    "Basket_per_transaction.sort_values(by='Quantity',ascending=False)"
   ]
  },
  {
   "cell_type": "code",
   "execution_count": 21,
   "id": "3b2528b4-5989-4bc1-b08a-eb41bf9dcab1",
   "metadata": {},
   "outputs": [
    {
     "data": {
      "text/plain": [
       "Quantity    279.547691\n",
       "dtype: float64"
      ]
     },
     "execution_count": 21,
     "metadata": {},
     "output_type": "execute_result"
    }
   ],
   "source": [
    "Average_Basket_size= Basket_per_transaction.mean()\n",
    "Average_Basket_size"
   ]
  },
  {
   "cell_type": "markdown",
   "id": "65b92e3b-0c81-4382-86aa-9a28097a78db",
   "metadata": {},
   "source": [
    "## CUSTOMERS THAT THEIR NUMBER OF TRANSACTION IS ABOVE THE AVERAGE BASKET SIZE"
   ]
  },
  {
   "cell_type": "code",
   "execution_count": 24,
   "id": "2dd15d0f-ffcc-498d-8748-96196b0a0ea4",
   "metadata": {},
   "outputs": [
    {
     "data": {
      "text/html": [
       "<div>\n",
       "<style scoped>\n",
       "    .dataframe tbody tr th:only-of-type {\n",
       "        vertical-align: middle;\n",
       "    }\n",
       "\n",
       "    .dataframe tbody tr th {\n",
       "        vertical-align: top;\n",
       "    }\n",
       "\n",
       "    .dataframe thead th {\n",
       "        text-align: right;\n",
       "    }\n",
       "</style>\n",
       "<table border=\"1\" class=\"dataframe\">\n",
       "  <thead>\n",
       "    <tr style=\"text-align: right;\">\n",
       "      <th></th>\n",
       "      <th>CustomerID</th>\n",
       "      <th>Number_Of_Purchase</th>\n",
       "      <th>Revenue</th>\n",
       "    </tr>\n",
       "  </thead>\n",
       "  <tbody>\n",
       "    <tr>\n",
       "      <th>1690</th>\n",
       "      <td>14646.0</td>\n",
       "      <td>74</td>\n",
       "      <td>280206.02</td>\n",
       "    </tr>\n",
       "    <tr>\n",
       "      <th>4202</th>\n",
       "      <td>18102.0</td>\n",
       "      <td>60</td>\n",
       "      <td>259657.30</td>\n",
       "    </tr>\n",
       "    <tr>\n",
       "      <th>3729</th>\n",
       "      <td>17450.0</td>\n",
       "      <td>46</td>\n",
       "      <td>194550.79</td>\n",
       "    </tr>\n",
       "    <tr>\n",
       "      <th>3009</th>\n",
       "      <td>16446.0</td>\n",
       "      <td>2</td>\n",
       "      <td>168472.50</td>\n",
       "    </tr>\n",
       "    <tr>\n",
       "      <th>1880</th>\n",
       "      <td>14911.0</td>\n",
       "      <td>201</td>\n",
       "      <td>143825.06</td>\n",
       "    </tr>\n",
       "    <tr>\n",
       "      <th>...</th>\n",
       "      <td>...</td>\n",
       "      <td>...</td>\n",
       "      <td>...</td>\n",
       "    </tr>\n",
       "    <tr>\n",
       "      <th>4099</th>\n",
       "      <td>17956.0</td>\n",
       "      <td>1</td>\n",
       "      <td>12.75</td>\n",
       "    </tr>\n",
       "    <tr>\n",
       "      <th>3015</th>\n",
       "      <td>16454.0</td>\n",
       "      <td>2</td>\n",
       "      <td>6.90</td>\n",
       "    </tr>\n",
       "    <tr>\n",
       "      <th>1794</th>\n",
       "      <td>14792.0</td>\n",
       "      <td>1</td>\n",
       "      <td>6.20</td>\n",
       "    </tr>\n",
       "    <tr>\n",
       "      <th>3218</th>\n",
       "      <td>16738.0</td>\n",
       "      <td>1</td>\n",
       "      <td>3.75</td>\n",
       "    </tr>\n",
       "    <tr>\n",
       "      <th>685</th>\n",
       "      <td>13256.0</td>\n",
       "      <td>1</td>\n",
       "      <td>0.00</td>\n",
       "    </tr>\n",
       "  </tbody>\n",
       "</table>\n",
       "<p>4339 rows × 3 columns</p>\n",
       "</div>"
      ],
      "text/plain": [
       "      CustomerID  Number_Of_Purchase    Revenue\n",
       "1690     14646.0                  74  280206.02\n",
       "4202     18102.0                  60  259657.30\n",
       "3729     17450.0                  46  194550.79\n",
       "3009     16446.0                   2  168472.50\n",
       "1880     14911.0                 201  143825.06\n",
       "...          ...                 ...        ...\n",
       "4099     17956.0                   1      12.75\n",
       "3015     16454.0                   2       6.90\n",
       "1794     14792.0                   1       6.20\n",
       "3218     16738.0                   1       3.75\n",
       "685      13256.0                   1       0.00\n",
       "\n",
       "[4339 rows x 3 columns]"
      ]
     },
     "execution_count": 24,
     "metadata": {},
     "output_type": "execute_result"
    }
   ],
   "source": [
    "mean_Quantity= 279.547691\n",
    "mean= df1.groupby(['CustomerID']).agg({'InvoiceNo':'nunique','Revenue':'sum'}).reset_index().sort_values(by='Revenue',ascending=False)\n",
    "mean.columns=['CustomerID','Number_Of_Purchase','Revenue']\n",
    "mean"
   ]
  },
  {
   "cell_type": "markdown",
   "id": "1d9deaa7-0e9a-48bd-a733-7a580ec87cfd",
   "metadata": {},
   "source": [
    "## CUSTOMERS THAT THEIR NUMBER OF TRANSACTION IS ABOVE THE AVERAGE BASKET SIZE"
   ]
  },
  {
   "cell_type": "code",
   "execution_count": 25,
   "id": "865bbb26-3e4c-487b-ae46-0d2068d2f872",
   "metadata": {},
   "outputs": [
    {
     "data": {
      "text/html": [
       "<div>\n",
       "<style scoped>\n",
       "    .dataframe tbody tr th:only-of-type {\n",
       "        vertical-align: middle;\n",
       "    }\n",
       "\n",
       "    .dataframe tbody tr th {\n",
       "        vertical-align: top;\n",
       "    }\n",
       "\n",
       "    .dataframe thead th {\n",
       "        text-align: right;\n",
       "    }\n",
       "</style>\n",
       "<table border=\"1\" class=\"dataframe\">\n",
       "  <thead>\n",
       "    <tr style=\"text-align: right;\">\n",
       "      <th></th>\n",
       "      <th>CustomerID</th>\n",
       "      <th>Number_Of_Purchase</th>\n",
       "      <th>Revenue</th>\n",
       "    </tr>\n",
       "  </thead>\n",
       "  <tbody>\n",
       "  </tbody>\n",
       "</table>\n",
       "</div>"
      ],
      "text/plain": [
       "Empty DataFrame\n",
       "Columns: [CustomerID, Number_Of_Purchase, Revenue]\n",
       "Index: []"
      ]
     },
     "execution_count": 25,
     "metadata": {},
     "output_type": "execute_result"
    }
   ],
   "source": [
    "mean[mean['Number_Of_Purchase']>mean_Quantity]"
   ]
  },
  {
   "cell_type": "markdown",
   "id": "fafd3cc6-5661-49c2-a726-32ac80be74b8",
   "metadata": {},
   "source": [
    "## CUSTOMERS THAT THEIR NUMBER OF TRANSACTION IS BELOW THE AVERAGE BASKET SIZE"
   ]
  },
  {
   "cell_type": "code",
   "execution_count": 27,
   "id": "ec6a08f3-aab1-4ecd-8057-6a8b3b27a3ac",
   "metadata": {},
   "outputs": [
    {
     "data": {
      "text/html": [
       "<div>\n",
       "<style scoped>\n",
       "    .dataframe tbody tr th:only-of-type {\n",
       "        vertical-align: middle;\n",
       "    }\n",
       "\n",
       "    .dataframe tbody tr th {\n",
       "        vertical-align: top;\n",
       "    }\n",
       "\n",
       "    .dataframe thead th {\n",
       "        text-align: right;\n",
       "    }\n",
       "</style>\n",
       "<table border=\"1\" class=\"dataframe\">\n",
       "  <thead>\n",
       "    <tr style=\"text-align: right;\">\n",
       "      <th></th>\n",
       "      <th>CustomerID</th>\n",
       "      <th>Number_Of_Purchase</th>\n",
       "      <th>Revenue</th>\n",
       "    </tr>\n",
       "  </thead>\n",
       "  <tbody>\n",
       "    <tr>\n",
       "      <th>1880</th>\n",
       "      <td>14911.0</td>\n",
       "      <td>201</td>\n",
       "      <td>143825.06</td>\n",
       "    </tr>\n",
       "    <tr>\n",
       "      <th>1690</th>\n",
       "      <td>14646.0</td>\n",
       "      <td>74</td>\n",
       "      <td>280206.02</td>\n",
       "    </tr>\n",
       "    <tr>\n",
       "      <th>2703</th>\n",
       "      <td>16029.0</td>\n",
       "      <td>63</td>\n",
       "      <td>81024.84</td>\n",
       "    </tr>\n",
       "    <tr>\n",
       "      <th>4202</th>\n",
       "      <td>18102.0</td>\n",
       "      <td>60</td>\n",
       "      <td>259657.30</td>\n",
       "    </tr>\n",
       "    <tr>\n",
       "      <th>1334</th>\n",
       "      <td>14156.0</td>\n",
       "      <td>55</td>\n",
       "      <td>117379.63</td>\n",
       "    </tr>\n",
       "    <tr>\n",
       "      <th>3729</th>\n",
       "      <td>17450.0</td>\n",
       "      <td>46</td>\n",
       "      <td>194550.79</td>\n",
       "    </tr>\n",
       "    <tr>\n",
       "      <th>3772</th>\n",
       "      <td>17511.0</td>\n",
       "      <td>31</td>\n",
       "      <td>91062.38</td>\n",
       "    </tr>\n",
       "    <tr>\n",
       "      <th>55</th>\n",
       "      <td>12415.0</td>\n",
       "      <td>21</td>\n",
       "      <td>124914.53</td>\n",
       "    </tr>\n",
       "    <tr>\n",
       "      <th>3009</th>\n",
       "      <td>16446.0</td>\n",
       "      <td>2</td>\n",
       "      <td>168472.50</td>\n",
       "    </tr>\n",
       "    <tr>\n",
       "      <th>0</th>\n",
       "      <td>12346.0</td>\n",
       "      <td>1</td>\n",
       "      <td>77183.60</td>\n",
       "    </tr>\n",
       "  </tbody>\n",
       "</table>\n",
       "</div>"
      ],
      "text/plain": [
       "      CustomerID  Number_Of_Purchase    Revenue\n",
       "1880     14911.0                 201  143825.06\n",
       "1690     14646.0                  74  280206.02\n",
       "2703     16029.0                  63   81024.84\n",
       "4202     18102.0                  60  259657.30\n",
       "1334     14156.0                  55  117379.63\n",
       "3729     17450.0                  46  194550.79\n",
       "3772     17511.0                  31   91062.38\n",
       "55       12415.0                  21  124914.53\n",
       "3009     16446.0                   2  168472.50\n",
       "0        12346.0                   1   77183.60"
      ]
     },
     "execution_count": 27,
     "metadata": {},
     "output_type": "execute_result"
    }
   ],
   "source": [
    "BM=mean[mean['Number_Of_Purchase']<=mean_Quantity]\n",
    "BM.head(10).sort_values(by='Number_Of_Purchase',ascending=False)"
   ]
  },
  {
   "cell_type": "markdown",
   "id": "568b70f5-f6fd-4594-a679-244806fd18e9",
   "metadata": {},
   "source": [
    "## TIME_BASED PURCHASING PATTERNS"
   ]
  },
  {
   "cell_type": "code",
   "execution_count": null,
   "id": "4b0db50c-ee45-48ae-a937-dd5870b58f23",
   "metadata": {},
   "outputs": [],
   "source": [
    "df1.set_index(['InvoiceDate'])\n",
    "df1.head(10)"
   ]
  },
  {
   "cell_type": "markdown",
   "id": "3117c625-092a-4588-bd50-e5aa6792cb6b",
   "metadata": {},
   "source": [
    "## HOURLY ANALYSIS"
   ]
  },
  {
   "cell_type": "code",
   "execution_count": null,
   "id": "196cee80-1293-4ba7-93bd-708a186cb065",
   "metadata": {},
   "outputs": [],
   "source": [
    "df1['Hour']= df1['InvoiceDate'].dt.hour\n",
    "df1"
   ]
  },
  {
   "cell_type": "code",
   "execution_count": null,
   "id": "41f1a183-f426-4752-aaea-28c6e77d1bce",
   "metadata": {
    "scrolled": true
   },
   "outputs": [],
   "source": [
    "Hourly_sales = df1.groupby('Hour')['Revenue'].sum()\n",
    "Hourly_sales.sort_values(ascending=False)"
   ]
  },
  {
   "cell_type": "code",
   "execution_count": null,
   "id": "52cd0f1e-a351-4ca7-a65b-9463d7ac0779",
   "metadata": {},
   "outputs": [],
   "source": [
    "Hourly_sales.plot(x='Hour',y='Revenue',title='Total sales by hour')"
   ]
  },
  {
   "cell_type": "markdown",
   "id": "0310a266-f7b8-4018-9dc0-0ca729772332",
   "metadata": {},
   "source": [
    "## ANALYSIS\n",
    "## From the above analysis, it is evident that sales are most made from the 7th hour up until the 16th hour.\n",
    "## ADVICE\n",
    "## 1.Increase staff presence during peak hours to improve service speed and customer experience.\n",
    "## 2.Reduce labor costs by scaling down staffing outside this range.\n",
    "## 3.Plan deliveries, restocking, and inventory checks before 7 AM or after 4 PM\n",
    "## 4.Send emails, SMS, or ads outside the core hours so they arrive just before the peak."
   ]
  },
  {
   "cell_type": "markdown",
   "id": "2300af26-db67-4e6f-abe6-a41fb5e743b3",
   "metadata": {},
   "source": [
    "## DAILY ANALYSIS"
   ]
  },
  {
   "cell_type": "code",
   "execution_count": null,
   "id": "3172515f-685c-48c7-85a6-0308717c8ee8",
   "metadata": {},
   "outputs": [],
   "source": [
    "df1['Weekday'] = df1['InvoiceDate'].dt.day_name()\n",
    "df1"
   ]
  },
  {
   "cell_type": "code",
   "execution_count": null,
   "id": "8fa6b3d6-f87e-44f6-a116-2e4cf9d2deae",
   "metadata": {},
   "outputs": [],
   "source": [
    "Weekday_sales = df1.groupby('Weekday')['Revenue'].sum()\n",
    "Weekday_sales.sort_values(ascending=False)"
   ]
  },
  {
   "cell_type": "code",
   "execution_count": null,
   "id": "c745772b-e44f-45a0-9077-310da731c7cb",
   "metadata": {},
   "outputs": [],
   "source": [
    "Weekday_sales.plot(kind='line',x='Weekday',y='Revenue',title='Total sales by Days')"
   ]
  },
  {
   "cell_type": "markdown",
   "id": "b42b3811-1ec4-477b-b089-c651fc92481a",
   "metadata": {},
   "source": [
    "## ANALYSIS\n",
    "## Sales mostly takes place on Thursdays.\n",
    "## ADVICE\n",
    "## 1.Staff up your customer support and fulfillment team on Thursdays\n",
    "## 2.Stock and prep inventory by Wednesday EOD\n",
    "## 3.Monitor site/server load if you’re online\n",
    "## 4.Exclusive points, gifts, or cashback only on Thursday purchases\n",
    "## 5.Launch \"Thursday Deals\" or \"Thankful Thursday\" promos.\n",
    "\n"
   ]
  },
  {
   "cell_type": "markdown",
   "id": "e60dc3da-1847-45d1-b1fc-97d8821dd609",
   "metadata": {},
   "source": [
    "## WEEKLY ANALYSIS"
   ]
  },
  {
   "cell_type": "code",
   "execution_count": null,
   "id": "e11b0714-a618-40b4-8d7d-829565f0cb01",
   "metadata": {},
   "outputs": [],
   "source": [
    "df1['Week'] = df1['InvoiceDate'].dt.isocalendar().week\n",
    "df1"
   ]
  },
  {
   "cell_type": "code",
   "execution_count": null,
   "id": "afa4d95a-8e2a-43c9-8ee6-0d1c275c4580",
   "metadata": {},
   "outputs": [],
   "source": [
    "Week = df1.groupby('Week')['Revenue'].sum()\n",
    "Week.sort_values(ascending=False)"
   ]
  },
  {
   "cell_type": "code",
   "execution_count": null,
   "id": "fa7b3607-0da9-44c9-bebc-f9460adf392f",
   "metadata": {},
   "outputs": [],
   "source": [
    "Week.plot(kind='line',x='Week',y='Revenue',title='Total sales by Weeks')"
   ]
  },
  {
   "cell_type": "markdown",
   "id": "232a11ae-6f65-415e-96d8-3419306ab059",
   "metadata": {},
   "source": [
    "## MONTHLY ANALYSIS"
   ]
  },
  {
   "cell_type": "code",
   "execution_count": null,
   "id": "26d9aac5-033c-486c-87a6-ead63716c3a4",
   "metadata": {},
   "outputs": [],
   "source": [
    "df1['Month'] = df1['InvoiceDate'].dt.to_period('M').dt.to_timestamp()\n",
    "df1\n"
   ]
  },
  {
   "cell_type": "code",
   "execution_count": null,
   "id": "182921aa-33b2-464d-a3a2-537297ba4201",
   "metadata": {},
   "outputs": [],
   "source": [
    "Month= df1.groupby('Month')['Revenue'].sum()\n",
    "Month.sort_values(ascending=False)"
   ]
  },
  {
   "cell_type": "code",
   "execution_count": null,
   "id": "81414e7f-03f0-4753-8c03-1a180e9f5186",
   "metadata": {},
   "outputs": [],
   "source": [
    "Month.plot(kind='line',x='Month',y='Revenue',title='Total sales by Month')"
   ]
  },
  {
   "cell_type": "markdown",
   "id": "2aaf9452-1540-4a9e-8260-0f4b1d890a85",
   "metadata": {},
   "source": [
    "## ANALYSIS\n",
    "## Most sales took place in November\n",
    "## ADVICE\n",
    "## 1.Begin marketing in late October—don’t wait for November.\n",
    "## 2.Send teasers, early access messages, and “wishlist” campaigns.\n",
    "## 3.Offer early bird deals to secure spenders before competitors swoop in.\n",
    "## 4.Stock the top products that got mostly sold out.\n",
    "## 5.Prepare bundles and gift sets—they sell fast\n",
    "## 6.Optimize pricing smartly.\n"
   ]
  },
  {
   "cell_type": "code",
   "execution_count": null,
   "id": "9c3d5780-af2a-490e-bf40-3ab42eb4d3b0",
   "metadata": {},
   "outputs": [],
   "source": []
  }
 ],
 "metadata": {
  "kernelspec": {
   "display_name": "Python 3 (ipykernel)",
   "language": "python",
   "name": "python3"
  },
  "language_info": {
   "codemirror_mode": {
    "name": "ipython",
    "version": 3
   },
   "file_extension": ".py",
   "mimetype": "text/x-python",
   "name": "python",
   "nbconvert_exporter": "python",
   "pygments_lexer": "ipython3",
   "version": "3.12.7"
  }
 },
 "nbformat": 4,
 "nbformat_minor": 5
}
